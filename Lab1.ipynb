{
  "nbformat": 4,
  "nbformat_minor": 0,
  "metadata": {
    "colab": {
      "provenance": [],
      "authorship_tag": "ABX9TyMMNDtVxjBuT+kQPEOYKNvq",
      "include_colab_link": true
    },
    "kernelspec": {
      "name": "python3",
      "display_name": "Python 3"
    },
    "language_info": {
      "name": "python"
    }
  },
  "cells": [
    {
      "cell_type": "markdown",
      "metadata": {
        "id": "view-in-github",
        "colab_type": "text"
      },
      "source": [
        "<a href=\"https://colab.research.google.com/github/chourasiya1430/LAB-1-ML-/blob/main/Lab1.ipynb\" target=\"_parent\"><img src=\"https://colab.research.google.com/assets/colab-badge.svg\" alt=\"Open In Colab\"/></a>"
      ]
    },
    {
      "cell_type": "code",
      "execution_count": 2,
      "metadata": {
        "colab": {
          "base_uri": "https://localhost:8080/",
          "height": 130
        },
        "id": "AtNENUA7nzgV",
        "outputId": "b83940fa-f187-4b49-ed0f-582a16d2e445"
      },
      "outputs": [
        {
          "output_type": "error",
          "ename": "SyntaxError",
          "evalue": "ignored",
          "traceback": [
            "\u001b[0;36m  File \u001b[0;32m\"<ipython-input-2-4da286756f23>\"\u001b[0;36m, line \u001b[0;32m1\u001b[0m\n\u001b[0;31m    Illustrate Examples of least comprehension in python.\u001b[0m\n\u001b[0m               ^\u001b[0m\n\u001b[0;31mSyntaxError\u001b[0m\u001b[0;31m:\u001b[0m invalid syntax\n"
          ]
        }
      ],
      "source": [
        "Illustrate Examples of least comprehension in python.\n",
        "#Print square of natural number 1-10\n",
        "lis=[]\n",
        "for i in range(1,11):\n",
        "     lis.append(i*i)\n",
        "\n",
        "print(lis)\n",
        "\n",
        "\n",
        "#Count number of six between 1 to 1000.\n",
        "count=0\n",
        "for i in range(1,101):\n",
        "   if i%10==6:\n",
        "      count=count+1\n",
        "   i=i/10\n",
        "   if i%10==6:\n",
        "      count=count+1\n",
        "print(count)\n",
        "\n",
        "\n",
        "\n",
        "#Count number of spaces in string.\n",
        "count=0\n",
        "str=input(str)\n",
        "for i in str:\n",
        "    if i==' ':\n",
        "       count=count+1\n",
        "        \n",
        "print(count)\n",
        "\n",
        "\n",
        "#Write table of 5\n",
        "lis=[]\n",
        "for i in range(1,11):\n",
        "    lis.append(5*i)\n",
        "    \n",
        "print(lis)\n",
        "\n",
        "\n",
        "\n",
        "#Find number between 1 to 1000 divisible by 2 and 5\n",
        "lis=[]\n",
        "for i in range(1,1001):\n",
        "   if i%2==0 and i%5==0:\n",
        "        lis.append(i)\n",
        "        \n",
        "print(lis)"
      ]
    }
  ]
}