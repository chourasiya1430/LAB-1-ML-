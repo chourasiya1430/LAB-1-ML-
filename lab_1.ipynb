{
  "nbformat": 4,
  "nbformat_minor": 0,
  "metadata": {
    "colab": {
      "provenance": [],
      "authorship_tag": "ABX9TyMam2vxJnlO3hG42/+Tmdir",
      "include_colab_link": true
    },
    "kernelspec": {
      "name": "python3",
      "display_name": "Python 3"
    },
    "language_info": {
      "name": "python"
    }
  },
  "cells": [
    {
      "cell_type": "markdown",
      "metadata": {
        "id": "view-in-github",
        "colab_type": "text"
      },
      "source": [
        "<a href=\"https://colab.research.google.com/github/chourasiya1430/LAB-1-ML-/blob/main/lab_1.ipynb\" target=\"_parent\"><img src=\"https://colab.research.google.com/assets/colab-badge.svg\" alt=\"Open In Colab\"/></a>"
      ]
    },
    {
      "cell_type": "markdown",
      "source": [
        "Example of list comprehension in python"
      ],
      "metadata": {
        "id": "KhHUFWEB0E27"
      }
    },
    {
      "cell_type": "markdown",
      "source": [
        "1.print squre of natural number 1 to 10"
      ],
      "metadata": {
        "id": "xW1CnCRu0Wl6"
      }
    },
    {
      "cell_type": "code",
      "source": [
        "for i in range(1, 11):\n",
        "    print(i ** 2)\n"
      ],
      "metadata": {
        "id": "cbZmHwOQ0bqS"
      },
      "execution_count": null,
      "outputs": []
    },
    {
      "cell_type": "markdown",
      "source": [
        "count number of 6 b/w 1 to 1000"
      ],
      "metadata": {
        "id": "ZIDWRJHw0gfK"
      }
    },
    {
      "cell_type": "code",
      "source": [
        "count = 0\n",
        "for i in range(1, 1001):\n",
        "    count += str(i).count('6')\n",
        "print(count)\n"
      ],
      "metadata": {
        "id": "ibzC9Yyb0hzZ"
      },
      "execution_count": null,
      "outputs": []
    },
    {
      "cell_type": "markdown",
      "source": [
        "count number of spaces in string"
      ],
      "metadata": {
        "id": "TtYOXVhz01uC"
      }
    },
    {
      "cell_type": "code",
      "source": [
        "s = \"virat kohli is the best cricketer in the world\"\n",
        "count = s.count(' ')\n",
        "print(count)\n"
      ],
      "metadata": {
        "id": "M5je7dzc05Ky"
      },
      "execution_count": null,
      "outputs": []
    },
    {
      "cell_type": "markdown",
      "source": [
        "write table of 5"
      ],
      "metadata": {
        "id": "Dl2Ccqk41CcJ"
      }
    },
    {
      "cell_type": "code",
      "source": [
        "for i in range(1, 11):\n",
        "    print(\"5 x\", i, \"=\", 5 * i)\n"
      ],
      "metadata": {
        "id": "FcFlBeVO1FwK"
      },
      "execution_count": null,
      "outputs": []
    },
    {
      "cell_type": "markdown",
      "source": [
        "find number beetween 1 to 1000 divisible by 2 and 5"
      ],
      "metadata": {
        "id": "RHzSq6yu1J6B"
      }
    },
    {
      "cell_type": "code",
      "source": [
        "for i in range(1, 1001):\n",
        "    if i % 2 == 0 and i % 5 == 0:\n",
        "        print(i)\n"
      ],
      "metadata": {
        "id": "epGPhQet1P1r"
      },
      "execution_count": null,
      "outputs": []
    }
  ]
}